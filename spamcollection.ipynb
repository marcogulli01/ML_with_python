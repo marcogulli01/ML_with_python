{
 "cells": [
  {
   "cell_type": "markdown",
   "metadata": {},
   "source": [
    "# SpamSMS dataset & random forests"
   ]
  },
  {
   "cell_type": "code",
   "execution_count": 1,
   "metadata": {},
   "outputs": [],
   "source": [
    "# Import all useful libraries \n",
    "\n",
    "import pandas as pd \n",
    "import numpy as np\n",
    "import matplotlib.pyplot as plt\n",
    "from sklearn.feature_extraction.text import CountVectorizer # to convert input strings into numerical inputs\n",
    "from sklearn.metrics import confusion_matrix, f1_score \n",
    "from sklearn.ensemble import RandomForestClassifier\n",
    "from sklearn.model_selection import GridSearchCV # optimizer for random forests"
   ]
  },
  {
   "cell_type": "code",
   "execution_count": 2,
   "metadata": {},
   "outputs": [],
   "source": [
    "dat = pd.read_csv(\"spam.csv\", encoding=\"latin-1\") "
   ]
  },
  {
   "cell_type": "code",
   "execution_count": 3,
   "metadata": {},
   "outputs": [
    {
     "data": {
      "text/html": [
       "<div>\n",
       "<style scoped>\n",
       "    .dataframe tbody tr th:only-of-type {\n",
       "        vertical-align: middle;\n",
       "    }\n",
       "\n",
       "    .dataframe tbody tr th {\n",
       "        vertical-align: top;\n",
       "    }\n",
       "\n",
       "    .dataframe thead th {\n",
       "        text-align: right;\n",
       "    }\n",
       "</style>\n",
       "<table border=\"1\" class=\"dataframe\">\n",
       "  <thead>\n",
       "    <tr style=\"text-align: right;\">\n",
       "      <th></th>\n",
       "      <th>v1</th>\n",
       "      <th>v2</th>\n",
       "      <th>Unnamed: 2</th>\n",
       "      <th>Unnamed: 3</th>\n",
       "      <th>Unnamed: 4</th>\n",
       "    </tr>\n",
       "  </thead>\n",
       "  <tbody>\n",
       "    <tr>\n",
       "      <th>0</th>\n",
       "      <td>ham</td>\n",
       "      <td>Go until jurong point, crazy.. Available only ...</td>\n",
       "      <td>NaN</td>\n",
       "      <td>NaN</td>\n",
       "      <td>NaN</td>\n",
       "    </tr>\n",
       "    <tr>\n",
       "      <th>1</th>\n",
       "      <td>ham</td>\n",
       "      <td>Ok lar... Joking wif u oni...</td>\n",
       "      <td>NaN</td>\n",
       "      <td>NaN</td>\n",
       "      <td>NaN</td>\n",
       "    </tr>\n",
       "    <tr>\n",
       "      <th>2</th>\n",
       "      <td>spam</td>\n",
       "      <td>Free entry in 2 a wkly comp to win FA Cup fina...</td>\n",
       "      <td>NaN</td>\n",
       "      <td>NaN</td>\n",
       "      <td>NaN</td>\n",
       "    </tr>\n",
       "    <tr>\n",
       "      <th>3</th>\n",
       "      <td>ham</td>\n",
       "      <td>U dun say so early hor... U c already then say...</td>\n",
       "      <td>NaN</td>\n",
       "      <td>NaN</td>\n",
       "      <td>NaN</td>\n",
       "    </tr>\n",
       "    <tr>\n",
       "      <th>4</th>\n",
       "      <td>ham</td>\n",
       "      <td>Nah I don't think he goes to usf, he lives aro...</td>\n",
       "      <td>NaN</td>\n",
       "      <td>NaN</td>\n",
       "      <td>NaN</td>\n",
       "    </tr>\n",
       "  </tbody>\n",
       "</table>\n",
       "</div>"
      ],
      "text/plain": [
       "     v1                                                 v2 Unnamed: 2  \\\n",
       "0   ham  Go until jurong point, crazy.. Available only ...        NaN   \n",
       "1   ham                      Ok lar... Joking wif u oni...        NaN   \n",
       "2  spam  Free entry in 2 a wkly comp to win FA Cup fina...        NaN   \n",
       "3   ham  U dun say so early hor... U c already then say...        NaN   \n",
       "4   ham  Nah I don't think he goes to usf, he lives aro...        NaN   \n",
       "\n",
       "  Unnamed: 3 Unnamed: 4  \n",
       "0        NaN        NaN  \n",
       "1        NaN        NaN  \n",
       "2        NaN        NaN  \n",
       "3        NaN        NaN  \n",
       "4        NaN        NaN  "
      ]
     },
     "execution_count": 3,
     "metadata": {},
     "output_type": "execute_result"
    }
   ],
   "source": [
    "dat.head() # to display data"
   ]
  },
  {
   "cell_type": "code",
   "execution_count": 4,
   "metadata": {},
   "outputs": [],
   "source": [
    "dat = dat.drop(columns = [\"Unnamed: 2\", \"Unnamed: 3\", \"Unnamed: 4\"]) # to drop useless columns"
   ]
  },
  {
   "cell_type": "code",
   "execution_count": 5,
   "metadata": {},
   "outputs": [],
   "source": [
    "dat.columns = [\"class\", \"message\"] # rename columns "
   ]
  },
  {
   "cell_type": "code",
   "execution_count": 6,
   "metadata": {},
   "outputs": [
    {
     "data": {
      "text/html": [
       "<div>\n",
       "<style scoped>\n",
       "    .dataframe tbody tr th:only-of-type {\n",
       "        vertical-align: middle;\n",
       "    }\n",
       "\n",
       "    .dataframe tbody tr th {\n",
       "        vertical-align: top;\n",
       "    }\n",
       "\n",
       "    .dataframe thead th {\n",
       "        text-align: right;\n",
       "    }\n",
       "</style>\n",
       "<table border=\"1\" class=\"dataframe\">\n",
       "  <thead>\n",
       "    <tr style=\"text-align: right;\">\n",
       "      <th></th>\n",
       "      <th>class</th>\n",
       "      <th>message</th>\n",
       "    </tr>\n",
       "  </thead>\n",
       "  <tbody>\n",
       "    <tr>\n",
       "      <th>0</th>\n",
       "      <td>ham</td>\n",
       "      <td>Go until jurong point, crazy.. Available only ...</td>\n",
       "    </tr>\n",
       "    <tr>\n",
       "      <th>1</th>\n",
       "      <td>ham</td>\n",
       "      <td>Ok lar... Joking wif u oni...</td>\n",
       "    </tr>\n",
       "    <tr>\n",
       "      <th>2</th>\n",
       "      <td>spam</td>\n",
       "      <td>Free entry in 2 a wkly comp to win FA Cup fina...</td>\n",
       "    </tr>\n",
       "    <tr>\n",
       "      <th>3</th>\n",
       "      <td>ham</td>\n",
       "      <td>U dun say so early hor... U c already then say...</td>\n",
       "    </tr>\n",
       "    <tr>\n",
       "      <th>4</th>\n",
       "      <td>ham</td>\n",
       "      <td>Nah I don't think he goes to usf, he lives aro...</td>\n",
       "    </tr>\n",
       "  </tbody>\n",
       "</table>\n",
       "</div>"
      ],
      "text/plain": [
       "  class                                            message\n",
       "0   ham  Go until jurong point, crazy.. Available only ...\n",
       "1   ham                      Ok lar... Joking wif u oni...\n",
       "2  spam  Free entry in 2 a wkly comp to win FA Cup fina...\n",
       "3   ham  U dun say so early hor... U c already then say...\n",
       "4   ham  Nah I don't think he goes to usf, he lives aro..."
      ]
     },
     "execution_count": 6,
     "metadata": {},
     "output_type": "execute_result"
    }
   ],
   "source": [
    "dat.head() # visualize the dataset with the renamed columns"
   ]
  },
  {
   "cell_type": "code",
   "execution_count": 7,
   "metadata": {},
   "outputs": [
    {
     "name": "stdout",
     "output_type": "stream",
     "text": [
      "# of data:  5572\n"
     ]
    }
   ],
   "source": [
    "print(\"# of data: \", dat[\"message\"].size) # total number of data"
   ]
  },
  {
   "cell_type": "code",
   "execution_count": 8,
   "metadata": {},
   "outputs": [],
   "source": [
    "targets = dat.iloc[:, 0]\n",
    "features = dat.iloc[:, 1]"
   ]
  },
  {
   "cell_type": "code",
   "execution_count": 9,
   "metadata": {},
   "outputs": [],
   "source": [
    "# Convert the strings in the input into numerical arrays\n",
    "\n",
    "# build a dictionary with a maximum of 3000 words and \n",
    "# convert everything into lowercase text\n",
    "\n",
    "vec = CountVectorizer(max_features = 3000, lowercase = True) \n",
    "\n",
    "X = vec.fit_transform(features)"
   ]
  },
  {
   "cell_type": "markdown",
   "metadata": {},
   "source": [
    "**Expected output format.** We could explain the output format making reference to a simple example. Suppose you wor with a dataset composed of 100 words and the $30^{th}$ message is \"Hi, tomorrow I work\". You aim at converting it by using a pre-built dictionary obtained with CountVectorizer, where the position of the four words is: *tomorrow: 12*, *I: 1*, *work: 40*, *Hi: 0*. For each word, the output format for the conversion of the $30^{th}$ message is:\n",
    "\n",
    "$$\n",
    "\\mbox{(message index, word index)} \\rightarrow  1\n",
    "$$ \n",
    "\n",
    "The presence of 1 in the end stands for the probability score assigned to that word, namely 100\\%. \n",
    "\n",
    "Therefore, the message \"Hi, tomorrow I work\" gets encoded as:\n",
    "1. Hi $\\rightarrow$ (30, 0)   1 \n",
    "2. tomorrow $\\rightarrow$ (30, 12)   1\n",
    "3. I $\\rightarrow$ (30, 1)   1 \n",
    "4. work $\\rightarrow$ (30, 40)   1\n",
    "\n",
    "Such conversion transforms every uppercase letter into a lowercase character and removes punctuation by default."
   ]
  },
  {
   "cell_type": "code",
   "execution_count": 11,
   "metadata": {},
   "outputs": [
    {
     "name": "stdout",
     "output_type": "stream",
     "text": [
      "  (0, 2843)\t1\n",
      "  (0, 1164)\t1\n",
      "  (0, 2589)\t1\n",
      "  (0, 645)\t1\n",
      "  (0, 1462)\t1\n",
      "  (0, 2933)\t1\n",
      "  (0, 1173)\t1\n",
      "  (0, 526)\t1\n",
      "  (0, 1341)\t1\n",
      "  (0, 1865)\t1\n",
      "  (0, 368)\t1\n",
      "  (0, 742)\t1\n",
      "  (0, 1989)\t1\n",
      "  (0, 2749)\t1\n",
      "  (0, 1148)\t1\n"
     ]
    }
   ],
   "source": [
    "# visualize the conversion of each message\n",
    "print(X[0])"
   ]
  },
  {
   "cell_type": "code",
   "execution_count": 12,
   "metadata": {},
   "outputs": [
    {
     "data": {
      "image/png": "[encoded data removed]",
      "text/plain": [
       "<Figure size 432x288 with 1 Axes>"
      ]
     },
     "metadata": {
      "needs_background": "light"
     },
     "output_type": "display_data"
    },
    {
     "name": "stdout",
     "output_type": "stream",
     "text": [
      "Spam proportion: 13.0 %\n",
      "Non-spam proportion: 87.0 %\n"
     ]
    }
   ],
   "source": [
    "# Histogram to represent the proportion of each class in the training set\n",
    "\n",
    "num_bins = 2\n",
    "n, bins, patches = plt.hist(targets, num_bins, color=\"green\", edgecolor=\"black\")\n",
    "plt.xticks(fontsize = 12)\n",
    "plt.yticks(fontsize = 12)\n",
    "plt.title(\"Classes proportions\", fontsize = 18)\n",
    "plt.xlabel(\"Class label\", fontsize = 14)\n",
    "plt.ylabel(\"Proportion\", fontsize = 14)\n",
    "\n",
    "plt.show()\n",
    "\n",
    "# Get the proportions of the two classes\n",
    "\n",
    "nr_S = dat.loc[dat[\"class\"] == \"spam\"].shape[0]\n",
    "nr_NS = dat.loc[dat[\"class\"] == \"ham\"].shape[0]\n",
    "\n",
    "print(\"Spam proportion: {} %\".format(round(100*nr_S/dat.shape[0],0)))\n",
    "print(\"Non-spam proportion: {} %\".format(round(100*nr_NS/dat.shape[0],0)))"
   ]
  },
  {
   "cell_type": "markdown",
   "metadata": {},
   "source": [
    "The two classes are imbalanced. Therefore, we shall work specifying the option <class_weight=\"balanced\"> in the random forest. This strategy allows to cope with imbalanced classes assigning a larger misclassification cost to the least frequent class."
   ]
  },
  {
   "cell_type": "code",
   "execution_count": 13,
   "metadata": {},
   "outputs": [],
   "source": [
    "# Optimization of the random forest varying the # of trees in the forest and the max depth of each tree\n",
    "# The option <criterion = \"entropy\"> carries out the model optimization by minimizing the Shannon entropy of the data\n",
    "\n",
    "def rforest_param_selection(X, y, nfolds):\n",
    "    param_grid = {\"n_estimators\": [50, 100, 200], \"max_depth\": [10, 20, 30, 40]}\n",
    "    rf_model = RandomForestClassifier(criterion = \"entropy\", class_weight = \"balanced\")\n",
    "    grid_search = GridSearchCV(rf_model, param_grid, cv=nfolds)\n",
    "    grid_search.fit(X, y)\n",
    "    pred_targets = grid_search.predict(X)\n",
    "    return (grid_search.best_params_, round(grid_search.best_score_,2), confusion_matrix(y, pred_targets),\n",
    "           round(f1_score(y, pred_targets, average = \"micro\"),2))"
   ]
  },
  {
   "cell_type": "code",
   "execution_count": 14,
   "metadata": {},
   "outputs": [
    {
     "name": "stdout",
     "output_type": "stream",
     "text": [
      "Parameters of the best model: {'max_depth': 20, 'n_estimators': 200}\n",
      "Mean accuracy of the best model: 98.0 %\n",
      "Confusion matrix: [[4824    1]\n",
      " [  60  687]]\n",
      "F-measure: 0.99\n"
     ]
    }
   ],
   "source": [
    "print(\"Parameters of the best model: {}\".format(rforest_param_selection(X, targets, 10)[0]))\n",
    "print(\"Mean accuracy of the best model: {} %\".format(rforest_param_selection(X, targets, 10)[1]*100))\n",
    "print(\"Confusion matrix: {}\".format(rforest_param_selection(X, targets, 10)[2]))\n",
    "print(\"F-measure: {}\".format(rforest_param_selection(X, targets, 10)[3]))"
   ]
  }
 ],
 "metadata": {
  "kernelspec": {
   "display_name": "Python 3",
   "language": "python",
   "name": "python3"
  },
  "language_info": {
   "codemirror_mode": {
    "name": "ipython",
    "version": 3
   },
   "file_extension": ".py",
   "mimetype": "text/x-python",
   "name": "python",
   "nbconvert_exporter": "python",
   "pygments_lexer": "ipython3",
   "version": "3.6.6"
  }
 },
 "nbformat": 4,
 "nbformat_minor": 2
}
